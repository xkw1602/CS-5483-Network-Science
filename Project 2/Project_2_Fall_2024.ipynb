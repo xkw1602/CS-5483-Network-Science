{
  "cells": [
    {
      "cell_type": "markdown",
      "metadata": {
        "id": "ocU4znTVhUQr"
      },
      "source": [
        "# CS 5483 Network Science"
      ]
    },
    {
      "cell_type": "markdown",
      "metadata": {
        "id": "EA2w6p9FheB-"
      },
      "source": [
        "## Project 2 Fall 2024"
      ]
    },
    {
      "cell_type": "markdown",
      "metadata": {
        "id": "u0Wd6_f6hhlg"
      },
      "source": [
        "### Due: October 4, 2024 at 11:59 PM"
      ]
    },
    {
      "cell_type": "code",
      "execution_count": 13,
      "metadata": {
        "id": "iuh0wGFifGAm"
      },
      "outputs": [],
      "source": [
        "# Required Header\n",
        "%matplotlib inline\n",
        "\n",
        "import matplotlib.pyplot as plt\n",
        "import networkx as nx\n",
        "import random"
      ]
    },
    {
      "cell_type": "markdown",
      "metadata": {
        "id": "KuEWWIASlY6_"
      },
      "source": [
        "### Quesiton 1:"
      ]
    },
    {
      "cell_type": "markdown",
      "metadata": {
        "id": "rIhNmhUbjYIq"
      },
      "source": [
        "a) Generate a random **undirected** graph with 100 nodes with degree densities 0.1, 0.2 and 0.3 - call them UG1, UG2 and UG3.\n",
        "\n"
      ]
    },
    {
      "cell_type": "code",
      "execution_count": 14,
      "metadata": {
        "id": "rUkTwB3hkhN2"
      },
      "outputs": [],
      "source": [
        "UG1 = nx.fast_gnp_random_graph(100, 0.1)\n",
        "UG2 = nx.fast_gnp_random_graph(100, 0.2)\n",
        "UG3 = nx.fast_gnp_random_graph(100, 0.3)"
      ]
    },
    {
      "cell_type": "markdown",
      "metadata": {
        "id": "e1in4xzzkMYy"
      },
      "source": [
        "---\n",
        "\n",
        "\n",
        "b) Find the number of connected components in each of the three graphs UG1, UG2, and UG3\n",
        "\n"
      ]
    },
    {
      "cell_type": "code",
      "execution_count": 15,
      "metadata": {
        "id": "hYBVAnwihY3M"
      },
      "outputs": [
        {
          "name": "stdout",
          "output_type": "stream",
          "text": [
            "UG1: 1\n",
            "UG2: 1\n",
            "UG3: 1\n"
          ]
        }
      ],
      "source": [
        "print(f'UG1: {nx.number_connected_components(UG1)}')\n",
        "print(f'UG2: {nx.number_connected_components(UG2)}')\n",
        "print(f'UG3: {nx.number_connected_components(UG3)}')"
      ]
    },
    {
      "cell_type": "markdown",
      "metadata": {
        "id": "TW3oj0bufGAo"
      },
      "source": [
        "---\n",
        "\n",
        "c) Show the adjacency matrix of the largest connected component of UG1 and edge list of UG1"
      ]
    },
    {
      "cell_type": "code",
      "execution_count": 16,
      "metadata": {
        "id": "FdYIWOxIfGAo"
      },
      "outputs": [
        {
          "name": "stdout",
          "output_type": "stream",
          "text": [
            "Adjacency matrix of largest component:\n",
            " [[0 0 1 ... 0 0 0]\n",
            " [0 0 0 ... 0 0 0]\n",
            " [1 0 0 ... 0 0 0]\n",
            " ...\n",
            " [0 0 0 ... 0 0 0]\n",
            " [0 0 0 ... 0 0 0]\n",
            " [0 0 0 ... 0 0 0]]\n",
            "\n",
            "Edge list: \n",
            " [(0, 2), (0, 4), (0, 20), (0, 23), (0, 44), (0, 55), (0, 57), (0, 63), (0, 65), (0, 87), (0, 90), (0, 95), (1, 3), (1, 15), (1, 22), (1, 43), (1, 49), (1, 50), (1, 51), (1, 56), (1, 64), (1, 74), (1, 91), (1, 92), (2, 3), (2, 6), (2, 8), (2, 15), (2, 18), (2, 27), (2, 40), (2, 53), (2, 62), (3, 10), (3, 23), (3, 39), (3, 75), (3, 83), (3, 92), (4, 21), (4, 28), (4, 36), (4, 50), (4, 64), (4, 69), (4, 87), (4, 89), (4, 94), (4, 96), (5, 16), (5, 22), (5, 36), (5, 37), (5, 47), (5, 54), (5, 58), (5, 63), (5, 92), (6, 12), (6, 13), (6, 32), (6, 34), (6, 47), (6, 48), (6, 49), (6, 51), (6, 57), (6, 63), (6, 78), (6, 80), (7, 51), (7, 54), (7, 59), (7, 62), (7, 68), (7, 81), (7, 96), (8, 20), (8, 27), (8, 29), (8, 32), (8, 43), (8, 49), (8, 53), (8, 58), (8, 59), (8, 62), (8, 68), (8, 77), (8, 79), (9, 12), (9, 18), (9, 42), (9, 49), (9, 60), (9, 79), (9, 84), (9, 88), (10, 15), (10, 16), (10, 60), (10, 69), (10, 70), (10, 71), (10, 76), (10, 78), (10, 89), (10, 96), (11, 14), (11, 35), (12, 20), (12, 36), (12, 39), (12, 62), (12, 69), (12, 86), (12, 88), (12, 95), (12, 98), (13, 16), (13, 36), (13, 38), (13, 44), (13, 98), (14, 29), (14, 36), (14, 44), (14, 60), (14, 76), (14, 79), (14, 84), (14, 95), (14, 96), (14, 98), (15, 16), (15, 23), (15, 40), (15, 53), (15, 54), (15, 64), (15, 65), (15, 68), (15, 71), (16, 37), (16, 43), (16, 69), (16, 83), (16, 92), (16, 94), (17, 34), (17, 45), (17, 63), (18, 25), (18, 37), (18, 44), (18, 54), (18, 72), (18, 83), (18, 88), (18, 89), (19, 23), (19, 43), (19, 72), (19, 84), (20, 21), (20, 30), (20, 31), (20, 46), (20, 55), (20, 57), (20, 60), (20, 68), (20, 74), (20, 84), (20, 94), (20, 98), (21, 41), (21, 47), (21, 51), (21, 60), (21, 78), (21, 98), (22, 24), (22, 31), (22, 40), (22, 47), (22, 48), (22, 49), (22, 50), (22, 64), (22, 65), (22, 87), (22, 92), (23, 39), (23, 43), (23, 61), (23, 91), (24, 34), (24, 43), (24, 51), (24, 53), (24, 92), (24, 96), (25, 39), (25, 58), (25, 66), (25, 71), (25, 75), (25, 81), (25, 83), (25, 93), (26, 31), (26, 33), (26, 40), (26, 54), (26, 59), (26, 69), (26, 74), (26, 75), (26, 89), (26, 96), (27, 33), (27, 39), (27, 41), (27, 51), (27, 65), (27, 69), (27, 79), (27, 86), (27, 88), (27, 95), (27, 97), (28, 33), (28, 45), (28, 53), (28, 67), (28, 72), (28, 74), (28, 79), (28, 83), (28, 88), (28, 94), (29, 41), (29, 48), (29, 57), (29, 69), (29, 87), (29, 89), (29, 98), (30, 33), (30, 36), (30, 41), (30, 45), (30, 57), (30, 67), (30, 72), (30, 81), (30, 91), (30, 92), (30, 94), (31, 69), (32, 39), (32, 42), (32, 44), (32, 49), (32, 79), (32, 97), (33, 34), (33, 45), (33, 53), (33, 56), (33, 59), (33, 73), (33, 75), (33, 79), (33, 81), (34, 53), (34, 55), (34, 72), (34, 74), (34, 87), (35, 41), (35, 43), (35, 52), (35, 69), (35, 71), (35, 82), (35, 83), (35, 98), (36, 51), (36, 69), (36, 77), (36, 96), (37, 57), (37, 61), (37, 68), (37, 87), (38, 61), (38, 79), (38, 82), (38, 89), (38, 96), (39, 46), (39, 50), (39, 56), (39, 74), (39, 87), (40, 42), (40, 55), (40, 57), (40, 72), (40, 77), (40, 81), (40, 86), (40, 87), (40, 90), (40, 97), (41, 44), (41, 81), (42, 55), (42, 73), (42, 75), (42, 85), (42, 86), (42, 90), (42, 92), (43, 57), (43, 59), (43, 79), (43, 81), (43, 83), (43, 84), (43, 96), (43, 97), (44, 62), (44, 63), (44, 64), (44, 66), (44, 67), (44, 72), (44, 78), (44, 89), (45, 66), (45, 71), (45, 80), (46, 50), (46, 59), (46, 61), (46, 69), (46, 71), (46, 76), (46, 82), (46, 88), (46, 95), (47, 48), (47, 53), (47, 54), (47, 60), (47, 98), (48, 57), (48, 58), (48, 72), (48, 74), (48, 75), (48, 78), (48, 94), (49, 54), (49, 63), (49, 89), (49, 94), (49, 98), (50, 57), (50, 75), (50, 84), (50, 97), (51, 54), (51, 57), (51, 60), (51, 99), (52, 54), (52, 57), (52, 58), (52, 64), (52, 72), (52, 85), (53, 62), (53, 71), (53, 86), (54, 56), (54, 67), (54, 74), (54, 76), (54, 94), (54, 97), (55, 60), (55, 70), (55, 76), (56, 60), (56, 77), (56, 90), (56, 92), (56, 96), (57, 58), (57, 62), (57, 66), (57, 72), (57, 77), (57, 82), (57, 87), (57, 92), (58, 79), (58, 90), (58, 93), (58, 97), (59, 62), (59, 68), (60, 70), (60, 89), (60, 92), (61, 76), (61, 83), (61, 89), (62, 65), (62, 68), (62, 73), (62, 85), (62, 86), (62, 95), (63, 72), (63, 86), (63, 92), (64, 75), (64, 96), (65, 69), (65, 72), (65, 80), (67, 72), (67, 90), (67, 92), (67, 95), (67, 96), (68, 76), (68, 97), (69, 70), (69, 72), (69, 75), (69, 86), (69, 97), (69, 99), (70, 84), (70, 89), (70, 92), (71, 85), (72, 75), (72, 76), (72, 83), (72, 85), (73, 98), (74, 86), (75, 78), (76, 81), (76, 85), (77, 78), (77, 87), (78, 91), (79, 83), (80, 82), (80, 96), (83, 86), (83, 91), (83, 94), (83, 95), (84, 95), (84, 98), (85, 97), (85, 98), (86, 87), (87, 90), (87, 93), (89, 96), (90, 96), (91, 95), (93, 96), (93, 97), (94, 98), (95, 96)]\n"
          ]
        }
      ],
      "source": [
        "\n",
        "largest_component = max(nx.connected_components(UG1), key=len)\n",
        "component_subgraph = UG1.subgraph(largest_component)\n",
        "print('Adjacency matrix of largest component:\\n',nx.adjacency_matrix(component_subgraph).todense())\n",
        "edge_list = UG1.edges\n",
        "print('\\nEdge list: \\n', edge_list)\n",
        "\n"
      ]
    },
    {
      "cell_type": "markdown",
      "metadata": {
        "id": "jC8yKmX2fGAo"
      },
      "source": [
        "\n",
        "---\n",
        "d) Choose two nodes in UG2; Find all paths between those two nodes;"
      ]
    },
    {
      "cell_type": "code",
      "execution_count": 17,
      "metadata": {
        "id": "gZ9hEgXTfGAo"
      },
      "outputs": [],
      "source": [
        "nodes = random.sample(list(UG1.nodes), 2)\n",
        "\n",
        "# This is infeasible to calculate\n",
        "#\n",
        "# for path in nx.all_simple_paths(UG1, source=nodes[0], target=nodes[1]):\n",
        "#     print(path)\n",
        "\n"
      ]
    },
    {
      "cell_type": "markdown",
      "metadata": {
        "id": "MvsmaUDLknWo"
      },
      "source": [
        "\n",
        "---\n",
        "\n",
        "d) Take the graph UG1. Take an edge (x, y); Remove (x, y) from UG1; call the new graph UG11; Find the number of connected components for UG11; Repeat this process for all edges (x, y) in UG1; FIND THE EDGE THAT RESULTS IN THE MAXIMUM NUMBER OF CONNECTED COMPONENTS\n"
      ]
    },
    {
      "cell_type": "code",
      "execution_count": 18,
      "metadata": {
        "id": "ZQ4Iy7Lpl6f5"
      },
      "outputs": [
        {
          "name": "stdout",
          "output_type": "stream",
          "text": [
            "Max number of connected components: 1\n",
            "Edge removed: (0, 2)\n"
          ]
        }
      ],
      "source": [
        "max_cc = 0\n",
        "removed_edge = None\n",
        "\n",
        "for edge in edge_list:\n",
        "    UG11 = UG1.copy()\n",
        "    UG11.remove_edge(*edge)\n",
        "    if(nx.number_connected_components(UG11) > max_cc):\n",
        "        max_cc = nx.number_connected_components(UG11)\n",
        "        removed_edge = edge\n",
        "\n",
        "print(f'Max number of connected components: {max_cc}')\n",
        "print(f'Edge removed: {removed_edge}')"
      ]
    },
    {
      "cell_type": "markdown",
      "metadata": {
        "id": "wGRUEbE0l9WN"
      },
      "source": [
        "\n",
        "\n",
        "---\n",
        "\n",
        "\n",
        "### Question 2:"
      ]
    },
    {
      "cell_type": "markdown",
      "metadata": {
        "id": "chJRAAMpovaF"
      },
      "source": [
        "a) Generate a random **directed** 100 node graph with degree densities 0.1, 0.2 and 0.3 - DG1, DG2 and\n",
        "DG3."
      ]
    },
    {
      "cell_type": "code",
      "execution_count": 19,
      "metadata": {
        "id": "QaE4L2z9pcgp"
      },
      "outputs": [],
      "source": [
        "DG1 = nx.fast_gnp_random_graph(100, 0.1, directed=True)\n",
        "DG2 = nx.fast_gnp_random_graph(100, 0.2, directed=True)\n",
        "DG3 = nx.fast_gnp_random_graph(100, 0.3, directed=True)"
      ]
    },
    {
      "cell_type": "markdown",
      "metadata": {
        "id": "QFCXsF-WpdSj"
      },
      "source": [
        "\n",
        "\n",
        "\n",
        "---\n",
        "\n",
        "\n",
        "b) Take the graph DG1. Take an ARC (x, y); Remove (x, y) from DG1; call the new graph DG11; Find the number of **strongly connected** components for DG11; Repeat this process for all edges (x, y) in DG1; FIND THE **ARC** THAT RESULTS IN THE MAXIMUM NUMBER OF **Stronlgy CONNECTED** COMPONENTS"
      ]
    },
    {
      "cell_type": "code",
      "execution_count": null,
      "metadata": {
        "id": "qMsdfLzwq8Zk"
      },
      "outputs": [],
      "source": []
    },
    {
      "cell_type": "markdown",
      "metadata": {
        "id": "GOJbTlGLq82V"
      },
      "source": [
        "---\n",
        "\n",
        "\n",
        "c) Choose two nodes in DG1; Find all directed paths between those two nodes"
      ]
    },
    {
      "cell_type": "code",
      "execution_count": null,
      "metadata": {
        "id": "uTYME7oZrREC"
      },
      "outputs": [],
      "source": []
    },
    {
      "cell_type": "markdown",
      "metadata": {
        "id": "WdGKG-xXy5sK"
      },
      "source": [
        "Question 3:\n",
        "\n",
        "Take any undirected network with at least 1K nodes from this repository https://networkrepository.com/\n",
        "\n",
        "a) Write code to determine the number of connected components\n",
        "b) The size of the largest connnected component\n",
        "c) The diameter of the largest connected component\n",
        "d) The number of outgoing links from the largest connected component to other nodes not in the largest connected component"
      ]
    },
    {
      "cell_type": "markdown",
      "metadata": {
        "id": "K5G3cpaNzztx"
      },
      "source": []
    },
    {
      "cell_type": "code",
      "execution_count": null,
      "metadata": {
        "id": "_F-0XBNLz1Cg"
      },
      "outputs": [],
      "source": []
    }
  ],
  "metadata": {
    "colab": {
      "provenance": []
    },
    "kernelspec": {
      "display_name": "Python 3",
      "language": "python",
      "name": "python3"
    },
    "language_info": {
      "codemirror_mode": {
        "name": "ipython",
        "version": 3
      },
      "file_extension": ".py",
      "mimetype": "text/x-python",
      "name": "python",
      "nbconvert_exporter": "python",
      "pygments_lexer": "ipython3",
      "version": "3.11.0"
    }
  },
  "nbformat": 4,
  "nbformat_minor": 0
}
