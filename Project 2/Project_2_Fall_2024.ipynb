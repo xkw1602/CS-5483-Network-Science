{
  "cells": [
    {
      "cell_type": "markdown",
      "metadata": {
        "id": "ocU4znTVhUQr"
      },
      "source": [
        "# CS 5483 Network Science"
      ]
    },
    {
      "cell_type": "markdown",
      "metadata": {
        "id": "EA2w6p9FheB-"
      },
      "source": [
        "## Project 2 Fall 2024"
      ]
    },
    {
      "cell_type": "markdown",
      "metadata": {
        "id": "u0Wd6_f6hhlg"
      },
      "source": [
        "### Due: October 4, 2024 at 11:59 PM"
      ]
    },
    {
      "cell_type": "code",
      "execution_count": 1,
      "metadata": {
        "id": "iuh0wGFifGAm"
      },
      "outputs": [],
      "source": [
        "# Required Header\n",
        "%matplotlib inline\n",
        "\n",
        "import matplotlib.pyplot as plt\n",
        "import networkx as nx"
      ]
    },
    {
      "cell_type": "markdown",
      "metadata": {
        "id": "KuEWWIASlY6_"
      },
      "source": [
        "### Quesiton 1:"
      ]
    },
    {
      "cell_type": "markdown",
      "metadata": {
        "id": "rIhNmhUbjYIq"
      },
      "source": [
        "a) Generate a random **undirected** graph with 100 nodes with degree densities 0.1, 0.2 and 0.3 - call them UG1, UG2 and UG3.\n",
        "\n"
      ]
    },
    {
      "cell_type": "code",
      "execution_count": 2,
      "metadata": {
        "id": "rUkTwB3hkhN2"
      },
      "outputs": [],
      "source": [
        "UG1 = nx.fast_gnp_random_graph(100, 0.1)\n",
        "UG2 = nx.fast_gnp_random_graph(100, 0.2)\n",
        "UG3 = nx.fast_gnp_random_graph(100, 0.3)"
      ]
    },
    {
      "cell_type": "markdown",
      "metadata": {
        "id": "e1in4xzzkMYy"
      },
      "source": [
        "---\n",
        "\n",
        "\n",
        "b) Find the number of connected components in each of the three graphs UG1, UG2, and UG3\n",
        "\n"
      ]
    },
    {
      "cell_type": "code",
      "execution_count": 3,
      "metadata": {
        "id": "hYBVAnwihY3M"
      },
      "outputs": [
        {
          "name": "stdout",
          "output_type": "stream",
          "text": [
            "UG1: 1\n",
            "UG2: 1\n",
            "UG3: 1\n"
          ]
        }
      ],
      "source": [
        "print(f'UG1: {nx.number_connected_components(UG1)}')\n",
        "print(f'UG2: {nx.number_connected_components(UG2)}')\n",
        "print(f'UG3: {nx.number_connected_components(UG3)}')"
      ]
    },
    {
      "cell_type": "markdown",
      "metadata": {
        "id": "TW3oj0bufGAo"
      },
      "source": [
        "---\n",
        "\n",
        "c) Show the adjacency matrix of the largest connected component of UG1 and edge list of UG1"
      ]
    },
    {
      "cell_type": "code",
      "execution_count": 4,
      "metadata": {
        "id": "FdYIWOxIfGAo"
      },
      "outputs": [
        {
          "ename": "AttributeError",
          "evalue": "'csr_array' object has no attribute 'toDense'",
          "output_type": "error",
          "traceback": [
            "\u001b[1;31m---------------------------------------------------------------------------\u001b[0m",
            "\u001b[1;31mAttributeError\u001b[0m                            Traceback (most recent call last)",
            "Cell \u001b[1;32mIn[4], line 6\u001b[0m\n\u001b[0;32m      4\u001b[0m component_subgraph \u001b[38;5;241m=\u001b[39m UG1\u001b[38;5;241m.\u001b[39msubgraph(largest_component)\n\u001b[0;32m      5\u001b[0m matrix \u001b[38;5;241m=\u001b[39m nx\u001b[38;5;241m.\u001b[39madjacency_matrix(component_subgraph)\n\u001b[1;32m----> 6\u001b[0m matrix \u001b[38;5;241m=\u001b[39m \u001b[43mmatrix\u001b[49m\u001b[38;5;241;43m.\u001b[39;49m\u001b[43mtoDense\u001b[49m()\n\u001b[0;32m      7\u001b[0m \u001b[38;5;28mprint\u001b[39m(matrix)\n\u001b[0;32m      8\u001b[0m \u001b[38;5;66;03m# Edge List\u001b[39;00m\n",
            "\u001b[1;31mAttributeError\u001b[0m: 'csr_array' object has no attribute 'toDense'"
          ]
        }
      ],
      "source": [
        "\n"
      ]
    },
    {
      "cell_type": "markdown",
      "metadata": {
        "id": "jC8yKmX2fGAo"
      },
      "source": [
        "\n",
        "---\n",
        "d) Choose two nodes in UG2; Find all paths between those two nodes;"
      ]
    },
    {
      "cell_type": "code",
      "execution_count": null,
      "metadata": {
        "id": "gZ9hEgXTfGAo"
      },
      "outputs": [],
      "source": []
    },
    {
      "cell_type": "markdown",
      "metadata": {
        "id": "MvsmaUDLknWo"
      },
      "source": [
        "\n",
        "---\n",
        "\n",
        "d) Take the graph UG1. Take an edge (x, y); Remove (x, y) from UG1; call the new graph UG11; Find the number of connected components for UG11; Repeat this process for all edges (x, y) in UG1; FIND THE EDGE THAT RESULTS IN THE MAXIMUM NUMBER OF CONNECTED COMPONENTS\n"
      ]
    },
    {
      "cell_type": "code",
      "execution_count": null,
      "metadata": {
        "id": "ZQ4Iy7Lpl6f5"
      },
      "outputs": [],
      "source": []
    },
    {
      "cell_type": "markdown",
      "metadata": {
        "id": "wGRUEbE0l9WN"
      },
      "source": [
        "\n",
        "\n",
        "---\n",
        "\n",
        "\n",
        "### Question 2:"
      ]
    },
    {
      "cell_type": "markdown",
      "metadata": {
        "id": "chJRAAMpovaF"
      },
      "source": [
        "a) Generate a random **directed** 100 node graph with degree densities 0.1, 0.2 and 0.3 - DG1, DG2 and\n",
        "DG3."
      ]
    },
    {
      "cell_type": "code",
      "execution_count": null,
      "metadata": {
        "id": "QaE4L2z9pcgp"
      },
      "outputs": [],
      "source": []
    },
    {
      "cell_type": "markdown",
      "metadata": {
        "id": "QFCXsF-WpdSj"
      },
      "source": [
        "\n",
        "\n",
        "\n",
        "---\n",
        "\n",
        "\n",
        "b) Take the graph DG1. Take an ARC (x, y); Remove (x, y) from DG1; call the new graph DG11; Find the number of **strongly connected** components for DG11; Repeat this process for all edges (x, y) in DG1; FIND THE **ARC** THAT RESULTS IN THE MAXIMUM NUMBER OF **Stronlgy CONNECTED** COMPONENTS"
      ]
    },
    {
      "cell_type": "code",
      "execution_count": null,
      "metadata": {
        "id": "qMsdfLzwq8Zk"
      },
      "outputs": [],
      "source": []
    },
    {
      "cell_type": "markdown",
      "metadata": {
        "id": "GOJbTlGLq82V"
      },
      "source": [
        "---\n",
        "\n",
        "\n",
        "c) Choose two nodes in DG1; Find all directed paths between those two nodes"
      ]
    },
    {
      "cell_type": "code",
      "execution_count": null,
      "metadata": {
        "id": "uTYME7oZrREC"
      },
      "outputs": [],
      "source": []
    },
    {
      "cell_type": "markdown",
      "metadata": {
        "id": "WdGKG-xXy5sK"
      },
      "source": [
        "Question 3:\n",
        "\n",
        "Take any undirected network with at least 1K nodes from this repository https://networkrepository.com/\n",
        "\n",
        "a) Write code to determine the number of connected components\n",
        "b) The size of the largest connnected component\n",
        "c) The diameter of the largest connected component\n",
        "d) The number of outgoing links from the largest connected component to other nodes not in the largest connected component"
      ]
    },
    {
      "cell_type": "markdown",
      "metadata": {
        "id": "K5G3cpaNzztx"
      },
      "source": []
    },
    {
      "cell_type": "code",
      "execution_count": null,
      "metadata": {
        "id": "_F-0XBNLz1Cg"
      },
      "outputs": [],
      "source": []
    }
  ],
  "metadata": {
    "colab": {
      "provenance": []
    },
    "kernelspec": {
      "display_name": "Python 3",
      "language": "python",
      "name": "python3"
    },
    "language_info": {
      "codemirror_mode": {
        "name": "ipython",
        "version": 3
      },
      "file_extension": ".py",
      "mimetype": "text/x-python",
      "name": "python",
      "nbconvert_exporter": "python",
      "pygments_lexer": "ipython3",
      "version": "3.10.11"
    }
  },
  "nbformat": 4,
  "nbformat_minor": 0
}
