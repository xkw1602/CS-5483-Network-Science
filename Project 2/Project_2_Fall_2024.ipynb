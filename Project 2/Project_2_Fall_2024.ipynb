{
  "cells": [
    {
      "cell_type": "markdown",
      "metadata": {
        "id": "ocU4znTVhUQr"
      },
      "source": [
        "# CS 5483 Network Science"
      ]
    },
    {
      "cell_type": "markdown",
      "metadata": {
        "id": "EA2w6p9FheB-"
      },
      "source": [
        "## Project 2 Fall 2024"
      ]
    },
    {
      "cell_type": "markdown",
      "metadata": {
        "id": "u0Wd6_f6hhlg"
      },
      "source": [
        "### Due: October 4, 2024 at 11:59 PM"
      ]
    },
    {
      "cell_type": "code",
      "execution_count": 1,
      "metadata": {
        "id": "iuh0wGFifGAm"
      },
      "outputs": [],
      "source": [
        "# Required Header\n",
        "%matplotlib inline\n",
        "\n",
        "import matplotlib.pyplot as plt\n",
        "import networkx as nx\n",
        "import random"
      ]
    },
    {
      "cell_type": "markdown",
      "metadata": {
        "id": "KuEWWIASlY6_"
      },
      "source": [
        "### Quesiton 1:"
      ]
    },
    {
      "cell_type": "markdown",
      "metadata": {
        "id": "rIhNmhUbjYIq"
      },
      "source": [
        "a) Generate a random **undirected** graph with 100 nodes with degree densities 0.1, 0.2 and 0.3 - call them UG1, UG2 and UG3.\n",
        "\n"
      ]
    },
    {
      "cell_type": "code",
      "execution_count": 2,
      "metadata": {
        "id": "rUkTwB3hkhN2"
      },
      "outputs": [],
      "source": [
        "UG1 = nx.fast_gnp_random_graph(100, 0.1)\n",
        "UG2 = nx.fast_gnp_random_graph(100, 0.2)\n",
        "UG3 = nx.fast_gnp_random_graph(100, 0.3)"
      ]
    },
    {
      "cell_type": "markdown",
      "metadata": {
        "id": "e1in4xzzkMYy"
      },
      "source": [
        "---\n",
        "\n",
        "\n",
        "b) Find the number of connected components in each of the three graphs UG1, UG2, and UG3\n",
        "\n"
      ]
    },
    {
      "cell_type": "code",
      "execution_count": 3,
      "metadata": {
        "id": "hYBVAnwihY3M"
      },
      "outputs": [
        {
          "name": "stdout",
          "output_type": "stream",
          "text": [
            "UG1: 1\n",
            "UG2: 1\n",
            "UG3: 1\n"
          ]
        }
      ],
      "source": [
        "print(f'UG1: {nx.number_connected_components(UG1)}')\n",
        "print(f'UG2: {nx.number_connected_components(UG2)}')\n",
        "print(f'UG3: {nx.number_connected_components(UG3)}')"
      ]
    },
    {
      "cell_type": "markdown",
      "metadata": {
        "id": "TW3oj0bufGAo"
      },
      "source": [
        "---\n",
        "\n",
        "c) Show the adjacency matrix of the largest connected component of UG1 and edge list of UG1"
      ]
    },
    {
      "cell_type": "code",
      "execution_count": 4,
      "metadata": {
        "id": "FdYIWOxIfGAo"
      },
      "outputs": [
        {
          "name": "stdout",
          "output_type": "stream",
          "text": [
            "Adjacency matrix of largest component:\n",
            " [[0 0 0 ... 0 1 0]\n",
            " [0 0 0 ... 0 0 0]\n",
            " [0 0 0 ... 0 0 1]\n",
            " ...\n",
            " [0 0 0 ... 0 1 0]\n",
            " [1 0 0 ... 1 0 1]\n",
            " [0 0 1 ... 0 1 0]]\n",
            "\n",
            "Edge list: \n",
            " [(0, 33), (0, 36), (0, 58), (0, 61), (0, 68), (0, 74), (0, 98), (1, 10), (1, 14), (1, 19), (1, 25), (1, 26), (1, 28), (1, 30), (2, 5), (2, 10), (2, 28), (2, 29), (2, 31), (2, 41), (2, 51), (2, 56), (2, 64), (2, 66), (2, 77), (2, 79), (2, 84), (2, 87), (2, 89), (2, 94), (2, 99), (3, 6), (3, 52), (3, 60), (3, 66), (3, 78), (4, 7), (4, 14), (4, 18), (4, 24), (4, 35), (4, 54), (4, 58), (4, 70), (4, 86), (4, 89), (4, 90), (5, 19), (5, 53), (5, 59), (5, 71), (5, 78), (5, 90), (6, 9), (6, 12), (6, 15), (6, 16), (6, 17), (6, 19), (6, 20), (6, 29), (6, 40), (6, 41), (6, 63), (6, 68), (6, 81), (6, 89), (6, 97), (7, 13), (7, 15), (7, 16), (7, 21), (7, 24), (7, 27), (7, 35), (7, 42), (7, 43), (7, 45), (7, 57), (7, 60), (7, 75), (7, 85), (7, 89), (8, 11), (8, 31), (8, 40), (8, 41), (8, 57), (8, 59), (8, 60), (8, 62), (8, 69), (8, 73), (8, 97), (9, 38), (9, 44), (9, 46), (9, 47), (9, 49), (9, 58), (9, 66), (10, 13), (10, 31), (10, 36), (10, 46), (10, 48), (10, 67), (10, 84), (10, 89), (11, 16), (11, 32), (11, 36), (11, 42), (11, 68), (11, 70), (11, 73), (11, 81), (11, 83), (11, 88), (11, 92), (11, 94), (11, 96), (12, 21), (12, 28), (12, 31), (12, 58), (12, 63), (12, 69), (12, 71), (12, 73), (12, 85), (12, 91), (12, 98), (13, 23), (13, 35), (13, 37), (13, 60), (13, 81), (13, 85), (13, 86), (13, 89), (13, 92), (13, 99), (14, 18), (14, 26), (14, 29), (14, 31), (14, 34), (14, 54), (14, 60), (14, 72), (14, 77), (14, 81), (14, 85), (15, 19), (15, 26), (15, 33), (15, 37), (15, 41), (15, 50), (15, 86), (15, 88), (15, 89), (16, 21), (16, 66), (16, 86), (16, 93), (16, 97), (17, 24), (17, 27), (17, 41), (17, 45), (17, 46), (17, 65), (17, 75), (17, 91), (17, 94), (17, 95), (18, 23), (18, 46), (18, 55), (18, 60), (18, 61), (18, 65), (18, 72), (18, 73), (18, 74), (18, 85), (18, 86), (18, 90), (18, 96), (18, 99), (19, 23), (19, 50), (19, 51), (19, 57), (19, 73), (19, 80), (19, 82), (19, 92), (20, 22), (20, 27), (20, 33), (20, 34), (20, 39), (20, 45), (20, 54), (20, 67), (21, 25), (21, 28), (21, 33), (21, 41), (21, 43), (21, 68), (21, 69), (21, 77), (21, 97), (21, 98), (22, 33), (22, 37), (22, 49), (22, 85), (23, 36), (23, 44), (23, 71), (23, 78), (23, 83), (23, 91), (23, 94), (23, 95), (23, 96), (23, 98), (24, 26), (24, 29), (24, 38), (24, 53), (24, 57), (24, 81), (24, 83), (24, 94), (24, 96), (25, 31), (25, 47), (25, 57), (25, 61), (25, 71), (25, 80), (26, 29), (26, 44), (26, 51), (26, 52), (26, 59), (26, 72), (26, 76), (26, 77), (26, 92), (26, 94), (26, 98), (27, 53), (27, 57), (27, 61), (27, 67), (27, 68), (27, 84), (27, 95), (28, 46), (28, 55), (28, 67), (28, 77), (28, 84), (28, 86), (29, 30), (29, 58), (29, 95), (30, 36), (30, 86), (30, 95), (31, 42), (31, 57), (31, 62), (31, 63), (31, 76), (31, 80), (31, 98), (32, 36), (32, 43), (32, 68), (32, 69), (32, 86), (32, 94), (33, 40), (33, 48), (33, 49), (33, 50), (33, 51), (33, 77), (33, 79), (33, 99), (34, 61), (34, 95), (35, 37), (35, 49), (35, 53), (35, 61), (35, 66), (35, 77), (36, 39), (36, 62), (36, 68), (36, 80), (36, 96), (37, 38), (37, 43), (37, 61), (37, 63), (37, 73), (37, 78), (37, 80), (37, 85), (37, 94), (38, 43), (38, 44), (38, 50), (38, 52), (38, 80), (39, 46), (39, 63), (39, 66), (39, 78), (39, 95), (40, 76), (41, 56), (41, 67), (41, 76), (41, 77), (41, 82), (41, 93), (42, 50), (42, 54), (42, 57), (42, 58), (42, 67), (42, 73), (43, 77), (43, 85), (44, 47), (44, 51), (44, 54), (44, 63), (44, 83), (44, 85), (44, 92), (44, 93), (45, 46), (45, 90), (45, 92), (45, 97), (46, 48), (46, 51), (46, 67), (46, 79), (46, 89), (46, 92), (46, 95), (46, 97), (47, 58), (47, 59), (47, 82), (47, 97), (48, 55), (48, 57), (48, 65), (48, 79), (49, 50), (49, 91), (49, 93), (50, 56), (50, 64), (50, 78), (50, 89), (50, 97), (51, 58), (51, 65), (51, 73), (51, 77), (51, 84), (51, 87), (52, 56), (52, 81), (53, 61), (53, 71), (54, 68), (54, 76), (54, 91), (54, 95), (55, 60), (55, 67), (55, 70), (55, 83), (55, 85), (55, 86), (56, 91), (56, 94), (56, 97), (57, 62), (57, 64), (57, 97), (58, 68), (58, 71), (58, 78), (58, 79), (58, 99), (59, 79), (59, 80), (59, 93), (60, 74), (60, 75), (60, 77), (60, 79), (60, 80), (61, 77), (61, 81), (61, 88), (61, 91), (61, 93), (61, 96), (61, 98), (62, 63), (62, 79), (62, 80), (62, 95), (63, 66), (63, 86), (63, 88), (63, 97), (64, 66), (64, 67), (64, 80), (64, 81), (64, 87), (64, 96), (65, 91), (66, 70), (66, 77), (66, 78), (66, 81), (66, 98), (67, 77), (67, 98), (68, 93), (69, 75), (69, 88), (69, 98), (70, 98), (71, 79), (71, 88), (71, 95), (72, 76), (72, 85), (72, 86), (72, 98), (73, 79), (73, 84), (73, 93), (74, 96), (75, 78), (75, 98), (76, 84), (77, 78), (78, 88), (78, 91), (78, 98), (79, 82), (79, 86), (79, 87), (80, 90), (80, 95), (81, 83), (81, 84), (81, 93), (81, 97), (82, 90), (82, 97), (83, 95), (83, 96), (84, 85), (84, 86), (84, 93), (84, 97), (86, 90), (86, 94), (87, 88), (87, 91), (87, 92), (88, 93), (89, 91), (90, 97), (97, 98), (98, 99)]\n"
          ]
        }
      ],
      "source": [
        "\n",
        "largest_component = max(nx.connected_components(UG1), key=len)\n",
        "component_subgraph = UG1.subgraph(largest_component)\n",
        "print('Adjacency matrix of largest component:\\n',nx.adjacency_matrix(component_subgraph).todense())\n",
        "edge_list = UG1.edges\n",
        "print('\\nEdge list: \\n', edge_list)\n",
        "\n"
      ]
    },
    {
      "cell_type": "markdown",
      "metadata": {
        "id": "jC8yKmX2fGAo"
      },
      "source": [
        "\n",
        "---\n",
        "d) Choose two nodes in UG2; Find all paths between those two nodes;"
      ]
    },
    {
      "cell_type": "code",
      "execution_count": 5,
      "metadata": {
        "id": "gZ9hEgXTfGAo"
      },
      "outputs": [],
      "source": [
        "nodes = random.sample(list(UG1.nodes), 2)\n",
        "\n",
        "# This is infeasible to calculate\n",
        "#\n",
        "# for path in nx.all_simple_paths(UG1, source=nodes[0], target=nodes[1]):\n",
        "#     print(path)\n",
        "\n"
      ]
    },
    {
      "cell_type": "markdown",
      "metadata": {
        "id": "MvsmaUDLknWo"
      },
      "source": [
        "\n",
        "---\n",
        "\n",
        "d) Take the graph UG1. Take an edge (x, y); Remove (x, y) from UG1; call the new graph UG11; Find the number of connected components for UG11; Repeat this process for all edges (x, y) in UG1; FIND THE EDGE THAT RESULTS IN THE MAXIMUM NUMBER OF CONNECTED COMPONENTS\n"
      ]
    },
    {
      "cell_type": "code",
      "execution_count": 6,
      "metadata": {
        "id": "ZQ4Iy7Lpl6f5"
      },
      "outputs": [
        {
          "name": "stdout",
          "output_type": "stream",
          "text": [
            "Max number of connected components: 1\n",
            "Edge removed: (0, 33)\n"
          ]
        }
      ],
      "source": [
        "max_cc = 0\n",
        "removed_edge = None\n",
        "\n",
        "for edge in edge_list:\n",
        "    UG11 = UG1.copy()\n",
        "    UG11.remove_edge(*edge)\n",
        "    if(nx.number_connected_components(UG11) > max_cc):\n",
        "        max_cc = nx.number_connected_components(UG11)\n",
        "        removed_edge = edge\n",
        "\n",
        "print(f'Max number of connected components: {max_cc}')\n",
        "print(f'Edge removed: {removed_edge}')"
      ]
    },
    {
      "cell_type": "markdown",
      "metadata": {
        "id": "wGRUEbE0l9WN"
      },
      "source": [
        "\n",
        "\n",
        "---\n",
        "\n",
        "\n",
        "### Question 2:"
      ]
    },
    {
      "cell_type": "markdown",
      "metadata": {
        "id": "chJRAAMpovaF"
      },
      "source": [
        "a) Generate a random **directed** 100 node graph with degree densities 0.1, 0.2 and 0.3 - DG1, DG2 and\n",
        "DG3."
      ]
    },
    {
      "cell_type": "code",
      "execution_count": 7,
      "metadata": {
        "id": "QaE4L2z9pcgp"
      },
      "outputs": [],
      "source": [
        "DG1 = nx.fast_gnp_random_graph(100, 0.1, directed=True)\n",
        "DG2 = nx.fast_gnp_random_graph(100, 0.2, directed=True)\n",
        "DG3 = nx.fast_gnp_random_graph(100, 0.3, directed=True)"
      ]
    },
    {
      "cell_type": "markdown",
      "metadata": {
        "id": "QFCXsF-WpdSj"
      },
      "source": [
        "\n",
        "\n",
        "\n",
        "---\n",
        "\n",
        "\n",
        "b) Take the graph DG1. Take an ARC (x, y); Remove (x, y) from DG1; call the new graph DG11; Find the number of **strongly connected** components for DG11; Repeat this process for all edges (x, y) in DG1; FIND THE **ARC** THAT RESULTS IN THE MAXIMUM NUMBER OF **Stronlgy CONNECTED** COMPONENTS"
      ]
    },
    {
      "cell_type": "code",
      "execution_count": 8,
      "metadata": {
        "id": "qMsdfLzwq8Zk"
      },
      "outputs": [
        {
          "name": "stdout",
          "output_type": "stream",
          "text": [
            "Max number of strongly connected components: 1\n",
            "Edge removed: (0, 1)\n"
          ]
        }
      ],
      "source": [
        "arc_list = DG1.edges\n",
        "\n",
        "max_cc = 0\n",
        "removed_edge = None\n",
        "\n",
        "for arc in arc_list:\n",
        "    DG11 = DG1.copy()\n",
        "    DG11.remove_edge(*arc)\n",
        "    if(nx.number_strongly_connected_components(DG11) > max_cc):\n",
        "        max_cc = nx.number_strongly_connected_components(DG11)\n",
        "        removed_arc = arc\n",
        "\n",
        "print(f'Max number of strongly connected components: {max_cc}')\n",
        "print(f'Edge removed: {removed_arc}')"
      ]
    },
    {
      "cell_type": "markdown",
      "metadata": {
        "id": "GOJbTlGLq82V"
      },
      "source": [
        "---\n",
        "\n",
        "\n",
        "c) Choose two nodes in DG1; Find all directed paths between those two nodes"
      ]
    },
    {
      "cell_type": "code",
      "execution_count": null,
      "metadata": {
        "id": "uTYME7oZrREC"
      },
      "outputs": [],
      "source": []
    },
    {
      "cell_type": "markdown",
      "metadata": {
        "id": "WdGKG-xXy5sK"
      },
      "source": [
        "Question 3:\n",
        "\n",
        "Take any undirected network with at least 1K nodes from this repository https://networkrepository.com/\n",
        "\n",
        "a) Write code to determine the number of connected components\n",
        "b) The size of the largest connnected component\n",
        "c) The diameter of the largest connected component\n",
        "d) The number of outgoing links from the largest connected component to other nodes not in the largest connected component"
      ]
    },
    {
      "cell_type": "markdown",
      "metadata": {
        "id": "K5G3cpaNzztx"
      },
      "source": []
    },
    {
      "cell_type": "code",
      "execution_count": null,
      "metadata": {
        "id": "_F-0XBNLz1Cg"
      },
      "outputs": [],
      "source": []
    }
  ],
  "metadata": {
    "colab": {
      "provenance": []
    },
    "kernelspec": {
      "display_name": "Python 3",
      "language": "python",
      "name": "python3"
    },
    "language_info": {
      "codemirror_mode": {
        "name": "ipython",
        "version": 3
      },
      "file_extension": ".py",
      "mimetype": "text/x-python",
      "name": "python",
      "nbconvert_exporter": "python",
      "pygments_lexer": "ipython3",
      "version": "3.10.11"
    }
  },
  "nbformat": 4,
  "nbformat_minor": 0
}
